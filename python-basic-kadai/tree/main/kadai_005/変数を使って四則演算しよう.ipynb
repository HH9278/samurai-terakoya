{
  "nbformat": 4,
  "nbformat_minor": 0,
  "metadata": {
    "colab": {
      "provenance": []
    },
    "kernelspec": {
      "name": "python3",
      "display_name": "Python 3"
    },
    "language_info": {
      "name": "python"
    }
  },
  "cells": [
    {
      "cell_type": "code",
      "execution_count": 4,
      "metadata": {
        "colab": {
          "base_uri": "https://localhost:8080/"
        },
        "id": "Y-TLQboUO-6O",
        "outputId": "1f5ab04d-d47d-497a-e97d-58621892e280"
      },
      "outputs": [
        {
          "output_type": "stream",
          "name": "stdout",
          "text": [
            "上辺：10cm\n",
            "下辺：20cm\n",
            "高さ：5cm\n",
            "--------------\n",
            "面積：500.0㎠\n"
          ]
        }
      ],
      "source": [
        "j = 10\n",
        "k = 20\n",
        "t = 5\n",
        "print(f'上辺：{j}cm')\n",
        "print(f'下辺：{k}cm')\n",
        "print(f'高さ：{t}cm')\n",
        "print('--------------')\n",
        "print(f'面積：{j*k*t/2}㎠')"
      ]
    }
  ]
}